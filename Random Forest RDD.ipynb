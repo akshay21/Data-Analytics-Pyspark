{
 "cells": [
  {
   "cell_type": "code",
   "execution_count": 1,
   "metadata": {
    "collapsed": false
   },
   "outputs": [
    {
     "data": {
      "text/plain": [
       "u'42,50,270900,270944,267,17,44,24220,76,108,1687,1,0,80,0.0498,0.2415,0.1818,0.0047,0.4706,1,1,2.4265,0.9031,1.6435,0.8182,-0.2913,0.5822,Pastry'"
      ]
     },
     "execution_count": 1,
     "metadata": {},
     "output_type": "execute_result"
    }
   ],
   "source": [
    "my_rdd=sc.textFile(\"file:\\Users\\Akshay\\Desktop\\data.csv\")\n",
    "my_rdd.take(4)\n",
    "\n",
    "header= my_rdd.first()\n",
    "my_rdd=my_rdd.filter(lambda x :x!=header)\n",
    "my_rdd.first()"
   ]
  },
  {
   "cell_type": "code",
   "execution_count": 2,
   "metadata": {
    "collapsed": false
   },
   "outputs": [
    {
     "data": {
      "text/plain": [
       "[LabeledPoint(0.0, [42.0,50.0,270900.0,270944.0,267.0,17.0,44.0,24220.0,76.0,108.0,1687.0,1.0,0.0,80.0,0.0498,0.2415,0.1818,0.0047,0.4706,1.0,1.0,2.4265,0.9031,1.6435,0.8182,-0.2913,0.5822]),\n",
       " LabeledPoint(0.0, [645.0,651.0,2538079.0,2538108.0,108.0,10.0,30.0,11397.0,84.0,123.0,1687.0,1.0,0.0,80.0,0.7647,0.3793,0.2069,0.0036,0.6,0.9667,1.0,2.0334,0.7782,1.4624,0.7931,-0.1756,0.2984]),\n",
       " LabeledPoint(0.0, [829.0,835.0,1553913.0,1553931.0,71.0,8.0,19.0,7972.0,99.0,125.0,1623.0,1.0,0.0,100.0,0.971,0.3426,0.3333,0.0037,0.75,0.9474,1.0,1.8513,0.7782,1.2553,0.6667,-0.1228,0.215]),\n",
       " LabeledPoint(0.0, [853.0,860.0,369370.0,369415.0,176.0,13.0,45.0,18996.0,99.0,126.0,1353.0,0.0,1.0,290.0,0.7287,0.4413,0.1556,0.0052,0.5385,1.0,1.0,2.2455,0.8451,1.6532,0.8444,-0.1568,0.5212])]"
      ]
     },
     "execution_count": 2,
     "metadata": {},
     "output_type": "execute_result"
    }
   ],
   "source": [
    "from pyspark.mllib.classification import LogisticRegressionWithLBFGS, LabeledPoint, LogisticRegressionModel\n",
    "import numpy as np\n",
    "\n",
    "def parse(line):\n",
    "    fields = line.split(\",\")\n",
    "    X_Min = float(fields[0])\n",
    "    X_Max = float(fields[1])\n",
    "    Y_Min = float(fields[2])\n",
    "    Y_Max = float(fields[3])\n",
    "    Pixels_Areas=float(fields[4])\n",
    "    X_Perimeter=float(fields[5])\n",
    "    Y_Perimeter=float(fields[6])\n",
    "    Sum_of_Luminosity=float(fields[7])\n",
    "    Minimum_of_Luminosity=float(fields[8])\n",
    "    Maximum_of_Luminosity=float(fields[9])\n",
    "    Length_of_Conveyer=float(fields[10])\n",
    "    TypeOfSteel_A300=float(fields[11])\n",
    "    TypeOfSteel_A400=float(fields[12])\n",
    "    Steel_Plate_Thickness=float(fields[13])\n",
    "    Edges_Index=float(fields[14])\n",
    "    Empty_Index=float(fields[15])\n",
    "    Square_Index=float(fields[16])\n",
    "    Outside_X_Index=float(fields[17])\n",
    "    Edges_X_Index=float(fields[18])\n",
    "    Edges_Y_Index=float(fields[19])\n",
    "    Outside_Global_Index=float(fields[20])\n",
    "    LogOfAreas=float(fields[21])\n",
    "    Log_X_Index=float(fields[22])\n",
    "    Log_Y_Index=float(fields[23])\n",
    "    Orientation_Index=float(fields[24])\n",
    "    Luminosity_Index=float(fields[25])\n",
    "    SigmoidOfAreas=float(fields[26])\n",
    "\n",
    "\n",
    "    \n",
    "    if fields[27] == 'Pastry':\n",
    "            target = 0\n",
    "    elif fields[27]=='Z_Scratch':\n",
    "            target = 1\n",
    "    elif fields[27]=='K_Scratch':\n",
    "            target = 2\n",
    "    elif fields[27]=='Stains':\n",
    "            target = 3\n",
    "    elif fields[27]=='Bumps':\n",
    "            target = 4\n",
    "    elif fields[27]=='Dirtiness':\n",
    "            target = 5\n",
    "    else:\n",
    "            target = 6\n",
    "    class_var=target\n",
    "    \n",
    "    return LabeledPoint(class_var,(X_Min,X_Max,Y_Min,Y_Max,Pixels_Areas,X_Perimeter,Y_Perimeter,Sum_of_Luminosity,Minimum_of_Luminosity,\\\n",
    "                                    Maximum_of_Luminosity,Length_of_Conveyer,TypeOfSteel_A300,TypeOfSteel_A400,Steel_Plate_Thickness,Edges_Index,\\\n",
    "                                    Empty_Index,Square_Index,Outside_X_Index,Edges_X_Index,Edges_Y_Index,Outside_Global_Index,LogOfAreas,Log_X_Index,\\\n",
    "                                    Log_Y_Index,Orientation_Index,Luminosity_Index,SigmoidOfAreas))\n",
    "\n",
    "#     return LabeledPoint(class_var,(X_Min,X_Max,Y_Min,Y_Max,Pixels_Areas,X_Perimeter,Y_Perimeter))\n",
    "\n",
    "parsedData=my_rdd.map(parse)\n",
    "\n",
    "parsedData.take(4)"
   ]
  },
  {
   "cell_type": "code",
   "execution_count": 5,
   "metadata": {
    "collapsed": true
   },
   "outputs": [],
   "source": [
    "from pyspark.mllib.tree import RandomForest, RandomForestModel\n",
    "from pyspark.mllib.util import MLUtils\n",
    "from time import time\n",
    "from pyspark.mllib.evaluation import MultilabelMetrics,MulticlassMetrics\n",
    "training, test = parsedData.randomSplit([0.7, 0.3],11L)"
   ]
  },
  {
   "cell_type": "code",
   "execution_count": 6,
   "metadata": {
    "collapsed": false
   },
   "outputs": [
    {
     "name": "stdout",
     "output_type": "stream",
     "text": [
      "Classifier trained in 8.023 seconds\n"
     ]
    }
   ],
   "source": [
    "t0 = time()\n",
    "tree_model = RandomForest.trainClassifier(training, numClasses=7,categoricalFeaturesInfo={},\n",
    "                                     numTrees=3, featureSubsetStrategy=\"auto\",\n",
    "                                     impurity='gini', maxDepth=4, maxBins=32)\n",
    "tt = time() - t0\n",
    "\n",
    "print \"Classifier trained in {} seconds\".format(round(tt,3))"
   ]
  },
  {
   "cell_type": "code",
   "execution_count": 7,
   "metadata": {
    "collapsed": true
   },
   "outputs": [],
   "source": [
    "predictions = tree_model.predict(test.map(lambda x: x.features))\n",
    "labelsAndPredictions = test.map(lambda lp: lp.label).zip(predictions)\n",
    "testErr = labelsAndPredictions.filter(lambda (v, p): v != p).count() / float(test.count())"
   ]
  },
  {
   "cell_type": "code",
   "execution_count": 40,
   "metadata": {
    "collapsed": false
   },
   "outputs": [
    {
     "name": "stdout",
     "output_type": "stream",
     "text": [
      "Test Error = 0.355353075171\n",
      "Learned classification forest model:\n",
      "TreeEnsembleModel classifier with 3 trees\n",
      "\n",
      "  Tree 0:\n",
      "    If (feature 26 <= 0.162833)\n",
      "     If (feature 25 <= -0.081441)\n",
      "      If (feature 23 <= 0.612138)\n",
      "       Predict: 3.0\n",
      "      Else (feature 23 > 0.612138)\n",
      "       If (feature 9 <= 134.61661)\n",
      "        Predict: 4.0\n",
      "       Else (feature 9 > 134.61661)\n",
      "        Predict: 3.0\n",
      "     Else (feature 25 > -0.081441)\n",
      "      If (feature 2 <= 64701.0)\n",
      "       Predict: 6.0\n",
      "      Else (feature 2 > 64701.0)\n",
      "       If (feature 0 <= 204.0)\n",
      "        Predict: 2.0\n",
      "       Else (feature 0 > 204.0)\n",
      "        Predict: 3.0\n",
      "    Else (feature 26 > 0.162833)\n",
      "     If (feature 22 <= 1.8865)\n",
      "      If (feature 16 <= 0.499806)\n",
      "       If (feature 10 <= 1373.198466)\n",
      "        Predict: 5.0\n",
      "       Else (feature 10 > 1373.198466)\n",
      "        Predict: 0.0\n",
      "      Else (feature 16 > 0.499806)\n",
      "       If (feature 13 <= 50.0)\n",
      "        Predict: 6.0\n",
      "       Else (feature 13 > 50.0)\n",
      "        Predict: 4.0\n",
      "     Else (feature 22 > 1.8865)\n",
      "      If (feature 8 <= 79.0)\n",
      "       If (feature 13 <= 50.0)\n",
      "        Predict: 2.0\n",
      "       Else (feature 13 > 50.0)\n",
      "        Predict: 6.0\n",
      "      Else (feature 8 > 79.0)\n",
      "       If (feature 0 <= 117.145045)\n",
      "        Predict: 2.0\n",
      "       Else (feature 0 > 117.145045)\n",
      "        Predict: 6.0\n",
      "  Tree 1:\n",
      "    If (feature 7 <= 3423.236566)\n",
      "     If (feature 13 <= 59.937747)\n",
      "      If (feature 24 <= -0.4545)\n",
      "       If (feature 13 <= 40.0)\n",
      "        Predict: 2.0\n",
      "       Else (feature 13 > 40.0)\n",
      "        Predict: 3.0\n",
      "      Else (feature 24 > -0.4545)\n",
      "       Predict: 3.0\n",
      "     Else (feature 13 > 59.937747)\n",
      "      If (feature 1 <= 29.585733)\n",
      "       Predict: 1.0\n",
      "      Else (feature 1 > 29.585733)\n",
      "       If (feature 17 <= 0.003699)\n",
      "        Predict: 4.0\n",
      "       Else (feature 17 > 0.003699)\n",
      "        Predict: 6.0\n",
      "    Else (feature 7 > 3423.236566)\n",
      "     If (feature 22 <= 1.8865)\n",
      "      If (feature 19 <= 0.965604)\n",
      "       If (feature 10 <= 1359.994044)\n",
      "        Predict: 1.0\n",
      "       Else (feature 10 > 1359.994044)\n",
      "        Predict: 6.0\n",
      "      Else (feature 19 > 0.965604)\n",
      "       If (feature 10 <= 1373.198466)\n",
      "        Predict: 5.0\n",
      "       Else (feature 10 > 1373.198466)\n",
      "        Predict: 0.0\n",
      "     Else (feature 22 > 1.8865)\n",
      "      If (feature 13 <= 40.0)\n",
      "       If (feature 23 <= 1.648299)\n",
      "        Predict: 6.0\n",
      "       Else (feature 23 > 1.648299)\n",
      "        Predict: 2.0\n",
      "      Else (feature 13 > 40.0)\n",
      "       If (feature 24 <= -0.392873)\n",
      "        Predict: 6.0\n",
      "       Else (feature 24 > -0.392873)\n",
      "        Predict: 1.0\n",
      "  Tree 2:\n",
      "    If (feature 6 <= 8.0)\n",
      "     If (feature 4 <= 26.0)\n",
      "      If (feature 13 <= 70.165657)\n",
      "       Predict: 3.0\n",
      "      Else (feature 13 > 70.165657)\n",
      "       If (feature 3 <= 393928.656622)\n",
      "        Predict: 6.0\n",
      "       Else (feature 3 > 393928.656622)\n",
      "        Predict: 4.0\n",
      "     Else (feature 4 > 26.0)\n",
      "      If (feature 11 <= 0.0)\n",
      "       If (feature 13 <= 59.937747)\n",
      "        Predict: 3.0\n",
      "       Else (feature 13 > 59.937747)\n",
      "        Predict: 6.0\n",
      "      Else (feature 11 > 0.0)\n",
      "       If (feature 23 <= 0.816542)\n",
      "        Predict: 6.0\n",
      "       Else (feature 23 > 0.816542)\n",
      "        Predict: 4.0\n",
      "    Else (feature 6 > 8.0)\n",
      "     If (feature 4 <= 3321.472934)\n",
      "      If (feature 24 <= 0.5333)\n",
      "       If (feature 1 <= 242.0)\n",
      "        Predict: 1.0\n",
      "       Else (feature 1 > 242.0)\n",
      "        Predict: 4.0\n",
      "      Else (feature 24 > 0.5333)\n",
      "       If (feature 25 <= -0.138094)\n",
      "        Predict: 0.0\n",
      "       Else (feature 25 > -0.138094)\n",
      "        Predict: 5.0\n",
      "     Else (feature 4 > 3321.472934)\n",
      "      If (feature 24 <= 0.2813)\n",
      "       If (feature 25 <= -0.050156)\n",
      "        Predict: 2.0\n",
      "       Else (feature 25 > -0.050156)\n",
      "        Predict: 1.0\n",
      "      Else (feature 24 > 0.2813)\n",
      "       If (feature 8 <= 54.0)\n",
      "        Predict: 0.0\n",
      "       Else (feature 8 > 54.0)\n",
      "        Predict: 1.0\n",
      "\n"
     ]
    }
   ],
   "source": [
    "print('Test Error = ' + str(testErr))\n",
    "print('Learned classification forest model:')\n",
    "print(tree_model.toDebugString())"
   ]
  },
  {
   "cell_type": "code",
   "execution_count": 8,
   "metadata": {
    "collapsed": false
   },
   "outputs": [],
   "source": [
    "metrics=MulticlassMetrics(labelsAndPredictions)"
   ]
  },
  {
   "cell_type": "code",
   "execution_count": 10,
   "metadata": {
    "collapsed": false
   },
   "outputs": [],
   "source": [
    "confusion_matrix=metrics.confusionMatrix()"
   ]
  },
  {
   "cell_type": "code",
   "execution_count": 11,
   "metadata": {
    "collapsed": false
   },
   "outputs": [
    {
     "name": "stdout",
     "output_type": "stream",
     "text": [
      "Confusion Matrix :DenseMatrix([[ 143.,    4.,    2.,    0.,   15.,  105.,   38.],\n",
      "             [  11.,  180.,    1.,    0.,   13.,    0.,    9.],\n",
      "             [   0.,    0.,  181.,    0.,    1.,    0.,    3.],\n",
      "             [   0.,    0.,    0.,  152.,    0.,    0.,    0.],\n",
      "             [  18.,    9.,   20.,    3.,  147.,   23.,   97.],\n",
      "             [  14.,    0.,    3.,   24.,   16.,   60.,   33.],\n",
      "             [   0.,    0.,    0.,    0.,    0.,    0.,    3.]])\n"
     ]
    }
   ],
   "source": [
    "print (\"Confusion Matrix :%s\"%confusion_matrix)"
   ]
  },
  {
   "cell_type": "code",
   "execution_count": 9,
   "metadata": {
    "collapsed": false
   },
   "outputs": [
    {
     "name": "stdout",
     "output_type": "stream",
     "text": [
      "Accuracy is :0.652108433735\n"
     ]
    }
   ],
   "source": [
    "accuracy=metrics.accuracy\n",
    "print (\"Accuracy is :%s\"%accuracy)"
   ]
  },
  {
   "cell_type": "code",
   "execution_count": null,
   "metadata": {
    "collapsed": true
   },
   "outputs": [],
   "source": []
  }
 ],
 "metadata": {
  "anaconda-cloud": {},
  "kernelspec": {
   "display_name": "Python [default]",
   "language": "python",
   "name": "python2"
  },
  "language_info": {
   "codemirror_mode": {
    "name": "ipython",
    "version": 2
   },
   "file_extension": ".py",
   "mimetype": "text/x-python",
   "name": "python",
   "nbconvert_exporter": "python",
   "pygments_lexer": "ipython2",
   "version": "2.7.12"
  }
 },
 "nbformat": 4,
 "nbformat_minor": 1
}
